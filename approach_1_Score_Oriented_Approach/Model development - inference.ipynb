{
 "cells": [
  {
   "cell_type": "markdown",
   "metadata": {
    "id": "vE_YchXPdIId"
   },
   "source": [
    "**Notebook Overview**\n",
    "\n",
    "This notebook is designed to build and deploy a predictive model for the Urban Heat Island (UHI) Index using an extensive set of engineered features. The inputs to this notebook are the feature-rich datasets created in a separate preprocessing notebook. These datasets contain detailed environmental, urban, and meteorological features, as well as spatial and temporal derivatives generated through various advanced data integration and feature engineering techniques.\n",
    "\n",
    "**Key Steps and Processes:**\n",
    "\n",
    "1. **Data Loading and feature interactions:**\n",
    "\n",
    "   - The processed training and submission datasets are loaded and joined, additional interaction features are added afterwards to these datasets.\n",
    "\n",
    "2. **Model Optimization (Optional):**\n",
    "\n",
    "   - A Bayesian optimization routine (using Optuna) was used to tune the hyperparameters of an XGBoost regression model. The best parameters are saved for later use.\n",
    "\n",
    "3. **Model Training & Evaluation:**\n",
    "\n",
    "   - The optimized model is retrained on the full training dataset.\n",
    "   - The model is evaluated on a test split, and performance metrics (such as R²) are calculated to assess its predictive power.\n",
    "\n",
    "4. **Prediction Generation:**\n",
    "   - The trained model is used to predict the UHI Index for the submission dataset.\n",
    "   - The predictions are then formatted into a submission file using a predefined template.\n",
    "\n",
    "**Outputs:**\n",
    "\n",
    "- **Trained Model:**  \n",
    "  An XGBoost regression model that has been optimized and retrained using the full training dataset (The models parameters can be saved).\n",
    "\n",
    "- **Prediction File:**  \n",
    "  A submission file containing the predicted UHI Index values for the submission dataset.\n"
   ]
  },
  {
   "cell_type": "code",
   "execution_count": 3,
   "metadata": {
    "executionInfo": {
     "elapsed": 3312,
     "status": "ok",
     "timestamp": 1745364994559,
     "user": {
      "displayName": "Mohamed Hridou",
      "userId": "13943295471743891029"
     },
     "user_tz": -120
    },
    "id": "R79dEHOxdIIf"
   },
   "outputs": [],
   "source": [
    "import os\n",
    "import json\n",
    "import warnings\n",
    "\n",
    "# Data manipulation\n",
    "import numpy as np\n",
    "import pandas as pd\n",
    "import gdown\n",
    "# Geospatial and projections\n",
    "from scipy.spatial import cKDTree\n",
    "\n",
    "# Modeling and machine learning\n",
    "from sklearn.preprocessing import StandardScaler\n",
    "from sklearn.model_selection import train_test_split, cross_val_score\n",
    "from sklearn.metrics import r2_score\n",
    "from sklearn.neighbors import KernelDensity\n",
    "\n",
    "import xgboost as xgb\n",
    "#import optuna\n",
    "\n",
    "# Disable warnings\n",
    "warnings.filterwarnings(\"ignore\")\n",
    "\n",
    "\n",
    "\n"
   ]
  },
  {
   "cell_type": "code",
   "execution_count": null,
   "metadata": {
    "colab": {
     "base_uri": "https://localhost:8080/"
    },
    "executionInfo": {
     "elapsed": 48715,
     "status": "ok",
     "timestamp": 1745365043273,
     "user": {
      "displayName": "Mohamed Hridou",
      "userId": "13943295471743891029"
     },
     "user_tz": -120
    },
    "id": "LVPHpHs8dpPa",
    "outputId": "5d76d7bd-582c-4b9e-8a59-77b1f6564c28"
   },
   "outputs": [
    {
     "name": "stderr",
     "output_type": "stream",
     "text": [
      "Retrieving folder contents\n"
     ]
    },
    {
     "name": "stdout",
     "output_type": "stream",
     "text": [
      "Retrieving folder 1X9akY68NZtdZwYJsH19UqyRLQENx__oD data_processed\n",
      "Processing file 1oE6rSyCmimDtovW4pi-j9HRieljt3bZ2 01_data_satellite_submission.pkl\n",
      "Processing file 1h7MRZNy5cierKCMvZO_--guqCa63wYaR 01_data_satellite_train.pkl\n",
      "Processing file 1MZ61PF1HLFdYzkkiEgVzckcSCuhm74Fu 02_data_weather_submission.pkl\n",
      "Processing file 1G9cAX6nrFBvDYZVIkIvS2G8ilOnRxURJ 02_data_weather_train.pkl\n",
      "Processing file 1Ae8hCwoMqRqcr4_oqn9sSuxCQG49TiKQ 03_data_footprint_submission.pkl\n",
      "Processing file 1hjurV6wMgAKv6dM8kM5-qhxkguFh2yuf 03_data_footprint_train.pkl\n",
      "Processing file 1SqxocwIb2XG7KO7nKvBKXwEq_hhBP-Dh 04_data_elevation_submission.pkl\n",
      "Processing file 1BAyCAiQwtl1oy9kWRvc2oJUG3NdEUruI 04_data_elevation_train.pkl\n",
      "Processing file 158rNXE9WmOM5vNiV2kGXfrnxHvM79zbJ best_model_params.json\n",
      "Processing file 1BJWtmzyzqfSYSKLCLsC1Su2p17JzllPE my_xgb_model.bin\n",
      "Processing file 1uAwvh3gB9RnQQuGL_2CKb27lMlm6znvC Submission_template.csv\n",
      "Processing file 1DOtWrz_skMpQ9goRiW8SbXtrko_sdCq_ Submission.csv\n"
     ]
    },
    {
     "name": "stderr",
     "output_type": "stream",
     "text": [
      "Retrieving folder contents completed\n",
      "Building directory structure\n",
      "Building directory structure completed\n"
     ]
    },
    {
     "ename": "PermissionError",
     "evalue": "[Errno 13] Permission denied: '/content'",
     "output_type": "error",
     "traceback": [
      "\u001b[0;31m---------------------------------------------------------------------------\u001b[0m",
      "\u001b[0;31mPermissionError\u001b[0m                           Traceback (most recent call last)",
      "Cell \u001b[0;32mIn[4], line 7\u001b[0m\n\u001b[1;32m      4\u001b[0m output_dir \u001b[38;5;241m=\u001b[39m \u001b[38;5;124m\"\u001b[39m\u001b[38;5;124m/content/\u001b[39m\u001b[38;5;124m\"\u001b[39m\n\u001b[1;32m      6\u001b[0m \u001b[38;5;66;03m# Step 4: Download the entire folder\u001b[39;00m\n\u001b[0;32m----> 7\u001b[0m \u001b[43mgdown\u001b[49m\u001b[38;5;241;43m.\u001b[39;49m\u001b[43mdownload_folder\u001b[49m\u001b[43m(\u001b[49m\u001b[38;5;28;43mid\u001b[39;49m\u001b[38;5;241;43m=\u001b[39;49m\u001b[43mfolder_id\u001b[49m\u001b[43m,\u001b[49m\u001b[43m \u001b[49m\u001b[43moutput\u001b[49m\u001b[38;5;241;43m=\u001b[39;49m\u001b[43moutput_dir\u001b[49m\u001b[43m,\u001b[49m\u001b[43m \u001b[49m\u001b[43mquiet\u001b[49m\u001b[38;5;241;43m=\u001b[39;49m\u001b[38;5;28;43;01mFalse\u001b[39;49;00m\u001b[43m,\u001b[49m\u001b[43m \u001b[49m\u001b[43muse_cookies\u001b[49m\u001b[38;5;241;43m=\u001b[39;49m\u001b[38;5;28;43;01mFalse\u001b[39;49;00m\u001b[43m)\u001b[49m\n\u001b[1;32m      9\u001b[0m \u001b[38;5;66;03m# Step 5: List downloaded files\u001b[39;00m\n\u001b[1;32m     10\u001b[0m os\u001b[38;5;241m.\u001b[39mlistdir(output_dir)\n",
      "File \u001b[0;32m~/miniconda3/envs/ey_2025/lib/python3.11/site-packages/gdown/download_folder.py:300\u001b[0m, in \u001b[0;36mdownload_folder\u001b[0;34m(url, id, output, quiet, proxy, speed, use_cookies, remaining_ok, verify, user_agent, skip_download, resume)\u001b[0m\n\u001b[1;32m    298\u001b[0m     root_dir \u001b[38;5;241m=\u001b[39m output\n\u001b[1;32m    299\u001b[0m \u001b[38;5;28;01mif\u001b[39;00m \u001b[38;5;129;01mnot\u001b[39;00m skip_download \u001b[38;5;129;01mand\u001b[39;00m \u001b[38;5;129;01mnot\u001b[39;00m osp\u001b[38;5;241m.\u001b[39mexists(root_dir):\n\u001b[0;32m--> 300\u001b[0m     \u001b[43mos\u001b[49m\u001b[38;5;241;43m.\u001b[39;49m\u001b[43mmakedirs\u001b[49m\u001b[43m(\u001b[49m\u001b[43mroot_dir\u001b[49m\u001b[43m)\u001b[49m\n\u001b[1;32m    302\u001b[0m files \u001b[38;5;241m=\u001b[39m []\n\u001b[1;32m    303\u001b[0m \u001b[38;5;28;01mfor\u001b[39;00m \u001b[38;5;28mid\u001b[39m, path \u001b[38;5;129;01min\u001b[39;00m directory_structure:\n",
      "File \u001b[0;32m<frozen os>:215\u001b[0m, in \u001b[0;36mmakedirs\u001b[0;34m(name, mode, exist_ok)\u001b[0m\n",
      "File \u001b[0;32m<frozen os>:225\u001b[0m, in \u001b[0;36mmakedirs\u001b[0;34m(name, mode, exist_ok)\u001b[0m\n",
      "\u001b[0;31mPermissionError\u001b[0m: [Errno 13] Permission denied: '/content'"
     ]
    }
   ],
   "source": [
    "# Step 3: Set the folder ID and output directory\n",
    "folder_url = \"https://drive.google.com/drive/folders/1gMzVpTQ_YBMVWkQZXSFFNqOCAkvHehRN?usp=drive_link\"\n",
    "folder_id = \"1gMzVpTQ_YBMVWkQZXSFFNqOCAkvHehRN\"\n",
    "output_dir = \"./\"\n",
    "\n",
    "# Step 4: Download the entire folder\n",
    "gdown.download_folder(id=folder_id, output=output_dir, quiet=False, use_cookies=False)\n",
    "\n",
    "# Step 5: List downloaded files\n",
    "os.listdir(output_dir)"
   ]
  },
  {
   "cell_type": "markdown",
   "metadata": {
    "id": "T135Mq1fdIIg"
   },
   "source": [
    "# Data Extraction and Preparation\n"
   ]
  },
  {
   "cell_type": "markdown",
   "metadata": {
    "id": "HWZs4UqRdIIg"
   },
   "source": [
    "## Loading features\n"
   ]
  },
  {
   "cell_type": "markdown",
   "metadata": {
    "id": "bTe0k9RGdIIg"
   },
   "source": [
    "The following dataframes are generated in a separate notebook, where features are extracted and processed from multiple data sources. These features include:\n",
    "\n",
    "- **Satellite Data:** Information derived from remote sensing, such as land surface temperature, vegetation indices ...\n",
    "- **Buildings Data:** Structural and urbanization-related features, including building density, height, area ...\n",
    "- **Weather Data:** Meteorological variables such as temperature, humidity, wind speed, and other atmospheric conditions.\n",
    "- **Existing Features:** The original features present in the training and submission datasets, including **Longitude, Latitude, and UHI Index**.\n",
    "\n",
    "These processed datasets are then combined into unified training and submission dataframes to be used for model training and predictions.\n"
   ]
  },
  {
   "cell_type": "code",
   "execution_count": 3,
   "metadata": {
    "executionInfo": {
     "elapsed": 315,
     "status": "ok",
     "timestamp": 1745365043595,
     "user": {
      "displayName": "Mohamed Hridou",
      "userId": "13943295471743891029"
     },
     "user_tz": -120
    },
    "id": "ICAoibwodIIh"
   },
   "outputs": [],
   "source": [
    "# importing satellite, buildings, weather and elevation features for training data\n",
    "processed_train_sat = pd.read_pickle(os.path.join(\"data\", \"data_processed\", \"01_data_satellite_train.pkl\"))\n",
    "processed_train_weather = pd.read_pickle(os.path.join(\"data\", \"data_processed\", \"02_data_weather_train.pkl\"))\n",
    "processed_train_buildings = pd.read_pickle(os.path.join(\"data\", \"data_processed\", \"03_data_footprint_train.pkl\"))\n",
    "processed_train_elevation = pd.read_pickle(os.path.join(\"data\", \"data_processed\", \"04_data_elevation_train.pkl\"))\n",
    "\n",
    "\n",
    "# importing satellite, buildings, weather and elevation features for submission data\n",
    "processed_sub_sat = pd.read_pickle(os.path.join(\"data\", \"data_processed\", \"01_data_satellite_submission.pkl\"))\n",
    "processed_sub_weather = pd.read_pickle(os.path.join(\"data\", \"data_processed\", \"02_data_weather_submission.pkl\"))\n",
    "processed_sub_buildings = pd.read_pickle(os.path.join(\"data\", \"data_processed\", \"03_data_footprint_submission.pkl\"))\n",
    "processed_sub_elevation = pd.read_pickle(os.path.join(\"data\", \"data_processed\", \"04_data_elevation_submission.pkl\"))\n",
    "\n",
    "\n",
    "dfs_train = [processed_train_sat, processed_train_weather, processed_train_buildings , processed_train_elevation]\n",
    "dfs_sub = [processed_sub_sat, processed_sub_weather, processed_sub_buildings , processed_sub_elevation]\n",
    "\n",
    "\n",
    "# Alternatively, using a loop:\n",
    "processed_train = dfs_train[0]\n",
    "for df in dfs_train[1:]:\n",
    "    processed_train = processed_train.merge(df, on=['Longitude', 'Latitude', 'datetime', 'UHI Index'])\n",
    "\n",
    "processed_sub = dfs_sub[0]\n",
    "for df in dfs_sub[1:]:\n",
    "    processed_sub = processed_sub.merge(df, on=['Longitude', 'Latitude', 'UHI Index'])"
   ]
  },
  {
   "cell_type": "markdown",
   "metadata": {
    "id": "x99095I5dIIh"
   },
   "source": [
    "## Interaction between features\n"
   ]
  },
  {
   "cell_type": "markdown",
   "metadata": {
    "id": "HDpTJ4ESdIIh"
   },
   "source": [
    "This section of the code is dedicated to creating new features that enhance our Urban Heat Island (UHI) prediction model. The process involves several steps:\n",
    "\n",
    "1. **Reference LST Calculation:**\n",
    "\n",
    "   - **Purpose:**  \n",
    "     The code first defines a reference location using a fixed longitude and latitude. It then extracts the median Land Surface Temperature (LST) from the training dataset at that reference location.\n",
    "   - **Why:**  \n",
    "     The reference LST serves as a baseline to compare the temperature at other points.\n",
    "\n",
    "2. **Engineered Features Function (`engineer_new_features`):**  \n",
    "   The function takes an input DataFrame and adds several new features based on the existing data. Key components include:\n",
    "\n",
    "   - **Vegetation & Solar Features:**\n",
    "\n",
    "     - **NDVI_solar:** Multiplies the median NDVI (vegetation index) by the 3–4 pm solar flux to capture shading effects.\n",
    "     - **Effective Solar Flux:** Adjusts the solar flux by building density (if available) to reflect canopy cover or shading effects.\n",
    "\n",
    "   - **Temperature & Humidity Interactions:**\n",
    "\n",
    "     - **hum_temp:** Calculates a combined metric (a proxy for “feels like” temperature) by multiplying the 3–4 pm air temperature with the relative humidity (scaled appropriately).\n",
    "\n",
    "   - **Wind Features:**\n",
    "\n",
    "     - Converts the 3–4 pm wind direction from degrees to radians and decomposes the wind speed into its x and y components. The temporary column used for conversion is dropped afterward.\n",
    "\n",
    "   - **Temporal Anomalies:**\n",
    "\n",
    "     - For each weather parameter measured between 3–4 pm, the code computes an anomaly by subtracting the overall full‐period average from the 3–4 pm average.\n",
    "\n",
    "   - **Reference ET0 Calculation:**\n",
    "\n",
    "     - Using the FAO‑56 Penman–Monteith equation, the code computes reference evapotranspiration (ET0) from air temperature, wind speed, solar flux, relative humidity, and albedo. This gives an estimate of water demand that is important in understanding surface energy balance.\n",
    "\n",
    "   - **Urban & Building Characteristics:**\n",
    "     - **Normalized Distance To Green:** Ratio of NDVI-based distance to total area.\n",
    "     - **Building Density Gradient:** Uses a spatial gradient (via `np.gradient`) of building counts to capture spatial variations in density.\n",
    "     - **Road Network Clustering:** Applies Kernel Density Estimation (KDE) on the road network to compute a clustering index.\n",
    "     - **LST Variability:** Estimates the spatial variability (standard deviation) of LST using a KDTree approach.\n",
    "     - **Urbanization Intensity:** Combines normalized road density, building counts, and vegetation index (with an inversion of NDVI) to provide a composite index of urbanization.\n",
    "     - **Building Compactness:** Ratio of total building area to the product of building count and road density.\n",
    "     - **Green Coverage Ratio:** Relates the NDVI distance metric to building counts.\n",
    "     - **LST Anomaly:** Computes the deviation of each point’s LST from the overall mean.\n",
    "     - **Building Coverage Ratio:** Ratio of building area to the sum of building area and NDVI distance.\n",
    "     - **LST Difference from Reference:** Computes the difference between a point’s LST and the reference LST (including a power transformation for nonlinearity).\n",
    "     - **Urban Core Compactness:** Combines building compactness and urbanization intensity normalized by road density.\n",
    "     - **Advanced Green Space Metrics:**\n",
    "       - **Vegetation Density Gradient:** Spatial gradient of NDVI.\n",
    "       - **Green Heat Absorption Index:** Ratio of green coverage to LST.\n",
    "     - **Water & Thermal Regulation Features:**\n",
    "       - **Water Influence Index:** Ratio of NDWI to NDVI distance.\n",
    "       - **Thermal Stability Index:** Ratio of LST anomaly to urbanization intensity.\n",
    "     - **Other Interaction Features:**\n",
    "       - **Vegetation Buffer Effect, Urban Heat Retention Index, Thermal Buffer Effect, Road Density Weighted Index, Infrastructure Coverage Ratio, and Green Space Thermal Impact:** These features combine multiple variables to capture complex interactions influencing the urban heat environment.\n",
    "   - **Radiation Features:**\n",
    "     - **Radiation Balance:** Computes the net radiation by adding surface net solar and thermal radiation and then subtracting the latent and sensible heat fluxes.\n",
    "     - **Effective Solar:** Adjusts the solar radiation by the Sky View Factor (SVF) to account for shading.\n",
    "     - **Additional Interaction Features:**\n",
    "       - Interactions between solar radiation, temperature, and wind (e.g., `slhf_temp`, `slhf_wind`, `stl_temp`, `temp_radiation`) are calculated to capture combined effects on the thermal environment.\n",
    "\n",
    "3. **Application to Datasets:**\n",
    "   - Finally, the function `engineer_new_features` is applied to both the training and submission datasets so that the model can leverage these newly engineered features.\n"
   ]
  },
  {
   "cell_type": "code",
   "execution_count": 4,
   "metadata": {
    "colab": {
     "base_uri": "https://localhost:8080/"
    },
    "executionInfo": {
     "elapsed": 13200,
     "status": "ok",
     "timestamp": 1745365056806,
     "user": {
      "displayName": "Mohamed Hridou",
      "userId": "13943295471743891029"
     },
     "user_tz": -120
    },
    "id": "t1oYCdUjdIIi",
    "outputId": "b80ff3b5-3bb0-44f3-d725-7103b9ca0e97"
   },
   "outputs": [
    {
     "name": "stdout",
     "output_type": "stream",
     "text": [
      "Calculating NDVI_solar\n",
      "Calculating effective_solar_flux\n",
      "Calculating hum_temp\n",
      "Converting wind direction to radians (w_wind_3_4_avg_rad)\n",
      "Calculating wind_speed_x and wind_speed_y\n",
      "Calculating temporal anomalies for weather parameters\n",
      "Calculating ET0 using FAO-56 Penman–Monteith\n",
      "Calculating Normalized_Distance_To_Green\n",
      "Calculating Building_Density_Gradient\n",
      "Calculating Road_Clustering_Index\n",
      "Calculating LST_Variability\n",
      "Calculating Urbanization_Intensity\n",
      "Calculating Building_Compactness\n",
      "Calculating Green_Coverage_Ratio\n",
      "Calculating LST_Anomaly\n",
      "Calculating Building_Coverage_Ratio\n",
      "Calculating LST_ref_diff and LST_ref_diff_pow\n",
      "Calculating Urban_Core_Compactness\n",
      "Calculating Vegetation_Density_Gradient and Green_Heat_Absorption_Index\n",
      "Calculating Water_Influence_Index and Thermal_Stability_Index\n",
      "Calculating Vegetation_Buffer_Effect\n",
      "Calculating Urban_Heat_Retention_Index\n",
      "Calculating Thermal_Buffer_Effect\n",
      "Calculating road_density_Weighted_Index\n",
      "Calculating Infrastructure_Coverage_Ratio\n",
      "Calculating Green_Space_Thermal_Impact\n",
      "Calculating Water_Influence_Index (WII)\n",
      "Calculating radiation_balance, adjusted_solar, effective_solar\n",
      "Calculating slhf_temp, slhf_wind, stl_temp, temp_radiation\n",
      "Calculating NDVI_solar\n",
      "Calculating effective_solar_flux\n",
      "Calculating hum_temp\n",
      "Converting wind direction to radians (w_wind_3_4_avg_rad)\n",
      "Calculating wind_speed_x and wind_speed_y\n",
      "Calculating temporal anomalies for weather parameters\n",
      "Calculating ET0 using FAO-56 Penman–Monteith\n",
      "Calculating Normalized_Distance_To_Green\n",
      "Calculating Building_Density_Gradient\n",
      "Calculating Road_Clustering_Index\n",
      "Calculating LST_Variability\n",
      "Calculating Urbanization_Intensity\n",
      "Calculating Building_Compactness\n",
      "Calculating Green_Coverage_Ratio\n",
      "Calculating LST_Anomaly\n",
      "Calculating Building_Coverage_Ratio\n",
      "Calculating LST_ref_diff and LST_ref_diff_pow\n",
      "Calculating Urban_Core_Compactness\n",
      "Calculating Vegetation_Density_Gradient and Green_Heat_Absorption_Index\n",
      "Calculating Water_Influence_Index and Thermal_Stability_Index\n",
      "Calculating Vegetation_Buffer_Effect\n",
      "Calculating Urban_Heat_Retention_Index\n",
      "Calculating Thermal_Buffer_Effect\n",
      "Calculating road_density_Weighted_Index\n",
      "Calculating Infrastructure_Coverage_Ratio\n",
      "Calculating Green_Space_Thermal_Impact\n",
      "Calculating Water_Influence_Index (WII)\n",
      "Calculating radiation_balance, adjusted_solar, effective_solar\n",
      "Calculating slhf_temp, slhf_wind, stl_temp, temp_radiation\n",
      "Dropping constant columns\n"
     ]
    }
   ],
   "source": [
    "# Reference LST is obtained from a specific location (using defined longitude and latitude)\n",
    "reference_long = -73.97277667\n",
    "reference_lat = 40.76897333\n",
    "# Get the median LST value from processed_train for the reference location\n",
    "reference_LST = processed_train[(processed_train[\"Longitude\"] == reference_long) & (processed_train[\"Latitude\"] == reference_lat)][\"LST_ls_median\"]\n",
    "reference_LST = float(reference_LST)\n",
    "\n",
    "def engineer_new_features(df):\n",
    "    \"\"\"Generate additional engineered features for UHI (Urban Heat Island) prediction.\"\"\"\n",
    "\n",
    "    # Log feature: NDVI_solar\n",
    "    print(\"Calculating NDVI_solar\")\n",
    "    # 1️⃣ NDVI_solar:\n",
    "    # Combine vegetation index (NDVI_median) with solar flux during 3-4pm (w_solar_3_4_mean)\n",
    "    # to gain insight into surface shading.\n",
    "    df[\"NDVI_solar\"] = df[\"NDVI_median\"] * df[\"w_solar_3_4_mean\"]\n",
    "\n",
    "    # Log feature: effective_solar_flux\n",
    "    if \"buildings_count\" in df.columns:\n",
    "        print(\"Calculating effective_solar_flux\")\n",
    "        # 2️⃣ Effective Solar Flux:\n",
    "        # Combine solar flux with building density if available. Lower effective solar flux\n",
    "        # may indicate higher shading or canopy cover.\n",
    "        df[\"effective_solar_flux\"] = df[\"w_solar_3_4_mean\"] / (1 + df[\"buildings_count\"])\n",
    "\n",
    "    # ---------------------------\n",
    "    # TEMPERATURE & HUMIDITY FEATURES\n",
    "    # ---------------------------\n",
    "\n",
    "    # Log feature: hum_temp\n",
    "    print(\"Calculating hum_temp\")\n",
    "    # 3️⃣ Humidity-Temperature Interaction:\n",
    "    # This product can hint at the “feels like” temperature.\n",
    "    df[\"hum_temp\"] = df[\"w_air_3_4_mean\"] * df[\"w_relative_3_4_mean\"] / 100\n",
    "\n",
    "    # ---------------------------\n",
    "    # WIND FEATURES\n",
    "    # ---------------------------\n",
    "\n",
    "    # Log feature: w_wind_3_4_avg_rad\n",
    "    print(\"Converting wind direction to radians (w_wind_3_4_avg_rad)\")\n",
    "    # 4️⃣ Convert wind direction from degrees to radians for further computations.\n",
    "    df[\"w_wind_3_4_avg_rad\"] = np.deg2rad(df[\"w_wind_3_4_mean\"])\n",
    "\n",
    "    # Log feature: wind_speed_x and wind_speed_y\n",
    "    print(\"Calculating wind_speed_x and wind_speed_y\")\n",
    "    # 5️⃣ Decompose wind into its x and y components.\n",
    "    df[\"wind_speed_x\"] = df[\"w_avg_3_4_mean\"] * np.cos(df[\"w_wind_3_4_avg_rad\"])\n",
    "    df[\"wind_speed_y\"] = df[\"w_avg_3_4_mean\"] * np.sin(df[\"w_wind_3_4_avg_rad\"])\n",
    "\n",
    "    # Drop the temporary column used for wind direction conversion.\n",
    "    df.drop(columns=[\"w_wind_3_4_avg_rad\"], inplace=True)\n",
    "\n",
    "    # ---------------------------\n",
    "    # TEMPORAL TRENDS / ANOMALIES\n",
    "    # ---------------------------\n",
    "\n",
    "    print(\"Calculating temporal anomalies for weather parameters\")\n",
    "    # For each weather parameter with a 3-4pm average, compute the anomaly by subtracting the full-period mean.\n",
    "    for var in df.columns:\n",
    "        if var.endswith('_3_4_mean'):\n",
    "            base = var[:-len('_3_4_mean')]\n",
    "            df[f\"{base}_anomaly\"] = df[f\"{base}_3_4_mean\"] - df[f\"{base}_mean\"]\n",
    "\n",
    "    # ---------------------------\n",
    "    # COMPUTE REFERENCE ET0 USING THE FAO-56 PENMAN–MONTEITH FORMULA\n",
    "    # ---------------------------\n",
    "\n",
    "    print(\"Calculating ET0 using FAO-56 Penman–Monteith\")\n",
    "    def compute_et0(row):\n",
    "        # Use a suffix for potential adjustments (here it is an empty string).\n",
    "        suffix = \"\"\n",
    "        T = row[\"w_air\"+suffix+\"_mean\"]      # Air temperature in °C\n",
    "        u2 = row[\"w_avg\"+suffix+\"_mean\"]       # Wind speed at 2 m (approximated)\n",
    "        # Convert solar flux from W/m² to MJ/m²/day:\n",
    "        if suffix != \"\":\n",
    "            Rs = row[\"w_solar\"+suffix+\"_mean\"] * 14*3600/10**6\n",
    "        else:\n",
    "            Rs = row[\"w_solar\"+suffix+\"_mean\"] * 3600/10**6\n",
    "        RH = row[\"w_relative\"+suffix+\"_mean\"]  # Relative Humidity in percent\n",
    "\n",
    "        G = 0.0           # Soil heat flux density (MJ/m²/day), assumed 0 for daily calculations\n",
    "        P = 101.3         # Atmospheric pressure in kPa (assumed sea level)\n",
    "\n",
    "        # Approximate net radiation (Rn) using the albedo correction:\n",
    "        Rn = (1 - row[\"albedo_corr_median\"]) * Rs  # Net radiation (MJ/m²/day)\n",
    "\n",
    "        # Compute saturation vapor pressure (es) using temperature (°C)\n",
    "        es = 0.6108 * np.exp((17.27 * T) / (T + 237.3))\n",
    "\n",
    "        # Compute slope of the saturation vapor pressure curve (Δ)\n",
    "        delta = (4098 * es) / ((T + 237.3) ** 2)\n",
    "\n",
    "        # Compute actual vapor pressure (ea) using relative humidity\n",
    "        ea = (RH / 100.0) * es\n",
    "\n",
    "        # Psychrometric constant (γ)\n",
    "        gamma = 0.665e-3 * P\n",
    "\n",
    "        # FAO-56 Penman–Monteith Equation to estimate reference ET0 (mm/day)\n",
    "        ET0 = (0.408 * delta * (Rn - G) + gamma * (900 / (T + 273)) * u2 * (es - ea)) / \\\n",
    "              (delta + gamma * (1 + 0.34 * u2))\n",
    "        return ET0\n",
    "\n",
    "    # Compute ET0 for each row and add it as a new column.\n",
    "    df[\"ET0\"] = df.apply(compute_et0, axis=1)\n",
    "\n",
    "    # ---------------------------\n",
    "    # ADDITIONAL URBAN HEAT ISLAND RELATED FEATURES\n",
    "    # ---------------------------\n",
    "\n",
    "    print(\"Calculating Normalized_Distance_To_Green\")\n",
    "    # 1️⃣ Normalized Distance to Green Space:\n",
    "    # Ratio of NDVI distance to total area (avoid division by zero with small constant).\n",
    "    df[\"Normalized_Distance_To_Green\"] = df[\"NDVI_distance_to_high_median\"] / (df[\"area_total\"] + 1e-10)\n",
    "\n",
    "    print(\"Calculating Building_Density_Gradient\")\n",
    "    # 2️⃣ Building Density Gradient:\n",
    "    # Compute the gradient (spatial change) in building count.\n",
    "    df[\"Building_Density_Gradient\"] = np.gradient(df[\"buildings_count\"])\n",
    "\n",
    "    print(\"Calculating Road_Clustering_Index\")\n",
    "    # 3️⃣ Road Network Clustering Index:\n",
    "    # Use Kernel Density Estimation (KDE) to measure the clustering of road networks.\n",
    "    kde = KernelDensity(kernel=\"gaussian\", bandwidth=500).fit(df[[\"Longitude\", \"Latitude\"]])\n",
    "    df[\"Road_Clustering_Index\"] = np.exp(kde.score_samples(df[[\"Longitude\", \"Latitude\"]]))\n",
    "\n",
    "    print(\"Calculating LST_Variability\")\n",
    "    # 4️⃣ LST Variability:\n",
    "    # Compute the spatial variability (standard deviation) of Land Surface Temperature (LST) using a KDTree.\n",
    "    def compute_lst_variability(coords, lst_values, radius=500):\n",
    "        tree = cKDTree(coords)\n",
    "        _, idx = tree.query(coords, k=10)\n",
    "        variability = np.array([np.std(lst_values[i]) for i in idx])\n",
    "        return variability\n",
    "\n",
    "    coords = df[[\"Longitude\", \"Latitude\"]].values\n",
    "    df[\"LST_Variability\"] = compute_lst_variability(coords, df[\"LST_ls_median\"].values)\n",
    "\n",
    "    print(\"Calculating Urbanization_Intensity\")\n",
    "    # 5️⃣ Urbanization Intensity Index:\n",
    "    # Normalize road density, building count, and vegetation indices, then combine them.\n",
    "    df['R_norm'] = (df['road_density'] - df['road_density'].min()) / (df['road_density'].max() - df['road_density'].min())\n",
    "    df['B_norm'] = (df['buildings_count'] - df['buildings_count'].min()) / (df['buildings_count'].max() - df['buildings_count'].min())\n",
    "    df['V_norm'] = (df['NDVI_median'] - df['NDVI_median'].min()) / (df['NDVI_median'].max() - df['NDVI_median'].min())\n",
    "    df[\"Urbanization_Intensity\"] = df[\"R_norm\"] + df[\"B_norm\"] + (1 - df[\"V_norm\"])\n",
    "    df.drop(columns=[\"R_norm\", \"B_norm\", \"V_norm\"], inplace=True)\n",
    "\n",
    "    print(\"Calculating Building_Compactness\")\n",
    "    # 6️⃣ Building Compactness Index:\n",
    "    # Ratio of total building area to the product of building count and road density.\n",
    "    df[\"Building_Compactness\"] = df[\"area_total\"] / (df[\"buildings_count\"] * df[\"road_density\"] + 1e-10)\n",
    "\n",
    "    print(\"Calculating Green_Coverage_Ratio\")\n",
    "    # 7️⃣ Green Coverage Ratio:\n",
    "    df[\"Green_Coverage_Ratio\"] = df[\"NDVI_distance_to_high_median\"] / (1 + df[\"buildings_count\"])\n",
    "\n",
    "    print(\"Calculating LST_Anomaly\")\n",
    "    # 8️⃣ Temperature Difference from Mean LST (LST Anomaly):\n",
    "    df[\"LST_Anomaly\"] = df[\"LST_ls_median\"] - df[\"LST_ls_median\"].mean()\n",
    "\n",
    "    print(\"Calculating Building_Coverage_Ratio\")\n",
    "    # 9️⃣ Building Coverage Ratio:\n",
    "    df[\"Building_Coverage_Ratio\"] = df[\"area_total\"] / (df[\"area_total\"] + df[\"NDVI_distance_to_high_median\"] + 1e-10)\n",
    "\n",
    "    print(\"Calculating LST_ref_diff and LST_ref_diff_pow\")\n",
    "    # Compute the LST difference relative to the reference LST defined above.\n",
    "    df[\"LST_ref_diff\"] = df[\"LST_ls_median\"] - reference_LST\n",
    "\n",
    "    # Apply a power transformation (3/4 exponent) to the LST difference.\n",
    "    df[\"LST_ref_diff_pow\"] = (df[\"LST_ref_diff\"])**(3/4)\n",
    "\n",
    "    print(\"Calculating Urban_Core_Compactness\")\n",
    "    # 1️⃣ Urban Heat & Compactness Features:\n",
    "    df[\"Urban_Core_Compactness\"] = (df[\"Building_Compactness\"] * df[\"Urbanization_Intensity\"]) / (df[\"road_density\"] + 1e-10)\n",
    "\n",
    "    print(\"Calculating Vegetation_Density_Gradient and Green_Heat_Absorption_Index\")\n",
    "    # 2️⃣ Advanced Green Space Metrics:\n",
    "    df[\"Vegetation_Density_Gradient\"] = np.gradient(df[\"NDVI_median\"])\n",
    "    df[\"Green_Heat_Absorption_Index\"] = df[\"Green_Coverage_Ratio\"] / (df[\"LST_ls_median\"] + 1e-10)\n",
    "\n",
    "    print(\"Calculating Water_Influence_Index and Thermal_Stability_Index\")\n",
    "    # 3️⃣ Water & Thermal Regulation Features:\n",
    "    df[\"Water_Influence_Index\"] = df[\"NDWI_median\"] / (df[\"NDVI_distance_to_high_median\"] + 1e-10)\n",
    "    df[\"Thermal_Stability_Index\"] = df[\"LST_Anomaly\"] / (df[\"Urbanization_Intensity\"] + 1e-10)\n",
    "\n",
    "    print(\"Calculating Vegetation_Buffer_Effect\")\n",
    "    # Vegetation Buffer Effect:\n",
    "    df[\"Vegetation_Buffer_Effect\"] = df[\"NDVI_median\"] / (df[\"NDVI_distance_to_high_median\"] + 1e-10)\n",
    "\n",
    "    print(\"Calculating Urban_Heat_Retention_Index\")\n",
    "    # Urban Heat Retention Index:\n",
    "    df[\"Urban_Heat_Retention_Index\"] = df[\"LST_ls_median\"] / (df[\"Urbanization_Intensity\"] + 1e-10)\n",
    "\n",
    "    print(\"Calculating Thermal_Buffer_Effect\")\n",
    "    # 2️⃣ Thermal Buffer Effect (TBE):\n",
    "    df[\"Thermal_Buffer_Effect\"] = df[\"NDVI_median\"] / (df[\"LST_Variability\"] + 1e-10)\n",
    "\n",
    "    print(\"Calculating road_density_Weighted_Index\")\n",
    "    # 3️⃣ Road Density Weighted Index (RDWI):\n",
    "    df[\"road_density_Weighted_Index\"] = df[\"road_density\"] * df[\"buildings_count\"]\n",
    "\n",
    "    print(\"Calculating Infrastructure_Coverage_Ratio\")\n",
    "    # 4️⃣ Infrastructure Coverage Ratio (ICR):\n",
    "    df[\"Infrastructure_Coverage_Ratio\"] = df[\"Building_Coverage_Ratio\"] / (df[\"Road_Clustering_Index\"] + 1e-10)\n",
    "\n",
    "    print(\"Calculating Green_Space_Thermal_Impact\")\n",
    "    # 5️⃣ Green Space Thermal Impact (GSTI):\n",
    "    df[\"Green_Space_Thermal_Impact\"] = df[\"Green_Coverage_Ratio\"] / (df[\"LST_ls_median\"] + 1e-10)\n",
    "\n",
    "    print(\"Calculating Water_Influence_Index (WII)\")\n",
    "    # 6️⃣ Water Influence Index (WII):\n",
    "    df[\"Water_Influence_Index\"] = df[\"NDWI_median\"] / (df[\"NDVI_distance_to_high_median\"] + 1e-10)\n",
    "\n",
    "    print(\"Calculating radiation_balance, adjusted_solar, effective_solar\")\n",
    "    # Additional interactions involving albedo and radiation variables:\n",
    "    df[\"radiation_balance\"] = (df[\"ssr_mean\"] + df[\"str_mean\"] - (df[\"slhf_mean\"] + df[\"sshf_mean\"]))\n",
    "    df[\"adjusted_solar\"] = df[\"ssrd_mean\"] * (1 - df[\"fal_mean\"])\n",
    "\n",
    "    # Incorporate interactions with the Sky View Factor (SVF)\n",
    "    df[\"effective_solar\"] = df[\"adjusted_solar\"] * df[\"SVF\"]\n",
    "\n",
    "    print(\"Calculating slhf_temp, slhf_wind, stl_temp, temp_radiation\")\n",
    "    # Incorporate interations between wind, temperature and radiantion features\n",
    "    df[\"slhf_temp\"] =(df[\"slhf_3_4_min\"]) * df[\"t2m_3_4_mean\"]\n",
    "    df[\"slhf_wind\"] =(df[\"slhf_3_4_min\"]) * df[\"v10_3_4_mean\"]\n",
    "    df[\"stl_temp\"] =(df[\"stl4_3_4_std\"]) /  df[\"t2m_3_4_mean\"]\n",
    "    df[\"temp_radiation\"] =(df[\"t2m_3_4_mean\"]) * ((df[\"radiation_balance\"])**(3/4))\n",
    "\n",
    "    return df\n",
    "\n",
    "# Apply feature engineering to both training and submission datasets.\n",
    "processed_train = engineer_new_features(processed_train.copy())\n",
    "processed_sub = engineer_new_features(processed_sub.copy())\n",
    "\n",
    "# Define a function to get columns where all values are constant.\n",
    "def get_constant_columns(df):\n",
    "    \"\"\"Returns a list of column names where all values are the same.\"\"\"\n",
    "    return df.columns[df.nunique() == 1].tolist()\n",
    "\n",
    "# Compare constant columns between processed_train and processed_sub.\n",
    "if get_constant_columns(processed_train) == get_constant_columns(processed_sub):\n",
    "    # Drop the constant columns from both datasets if they match.\n",
    "    print(\"Dropping constant columns\")\n",
    "    processed_train = processed_train.drop(columns=get_constant_columns(processed_train))\n",
    "    processed_sub = processed_sub.drop(columns=get_constant_columns(processed_sub))\n",
    "else:\n",
    "    print(\"Columns to drop do not match\")"
   ]
  },
  {
   "cell_type": "markdown",
   "metadata": {
    "id": "ulI89QhDdIIj"
   },
   "source": [
    "# Model Development\n"
   ]
  },
  {
   "cell_type": "markdown",
   "metadata": {
    "id": "BNtK7I-wdIIj"
   },
   "source": [
    "**Overview:**  \n",
    "In this section, we prepare our processed data for modeling, optimize the model parameters using Bayesian optimization (Optuna), and then train an XGBoost regression model using the best saved parameters. The goal is to predict the Urban Heat Island (UHI) Index based on a wide range of engineered features.\n",
    "\n",
    "**Input:**\n",
    "\n",
    "- Processed training and submission datasets containing engineered environmental, urban, and meteorological features.\n",
    "- A target variable (\"UHI Index\") for the training data.\n",
    "- A JSON file with the best hyperparameters obtained from previous model optimization.\n",
    "\n",
    "**Output:**\n",
    "\n",
    "- Preprocessed, scaled, and aligned feature matrices for both training and submission.\n",
    "- An XGBoost regression model trained using the optimized hyperparameters.\n",
    "- Performance metrics (R² scores) on both training and test splits to assess the model's predictive performance.\n",
    "\n",
    "**Summary:**\n",
    "\n",
    "1. **Data Preparation and Scaling:**  \n",
    "   The code creates copies of the processed datasets, drops spatial and datetime-related columns, and aligns the training and submission feature sets. It then separates the target variable from the predictors and scales the features using StandardScaler. A train–test split is performed to enable model evaluation.\n",
    "\n",
    "2. **Model Optimization (Optional):**  \n",
    "   A Bayesian optimization routine (via Optuna) is defined to search for the best hyperparameters for the XGBoost model using cross-validation. The best parameters are saved in a JSON file for later use.\n",
    "\n",
    "3. **XGBoost Modeling:**  \n",
    "   Using the saved best parameters, an XGBoost regression model is initialized and trained on the scaled training data. Finally, the model's performance is evaluated on both training and test sets, and the R² scores are printed.\n",
    "\n",
    "**Features Generated (for Modeling):**\n",
    "\n",
    "- Engineered features capturing various aspects of urban heat (e.g., vegetation indices, solar flux, temperature-humidity interactions, wind components).\n",
    "- Derived temporal anomalies comparing 3–4 pm averages against full-period means.\n",
    "- Complex urban metrics including building compactness, road clustering, and urbanization intensity.\n",
    "- Additional features incorporating interactions (e.g., albedo with solar flux and sky view factors).\n"
   ]
  },
  {
   "cell_type": "markdown",
   "metadata": {
    "id": "0lOZXDc1dIIk"
   },
   "source": [
    "## Data Preparation and Scaling\n"
   ]
  },
  {
   "cell_type": "code",
   "execution_count": 5,
   "metadata": {
    "executionInfo": {
     "elapsed": 326,
     "status": "ok",
     "timestamp": 1745365057140,
     "user": {
      "displayName": "Mohamed Hridou",
      "userId": "13943295471743891029"
     },
     "user_tz": -120
    },
    "id": "sXOQXfzFdIIk"
   },
   "outputs": [],
   "source": [
    "# Create copies of the processed training and submission datasets.\n",
    "train_feat = processed_train.copy()\n",
    "sub_feat = processed_sub.copy()\n",
    "\n",
    "# Define columns to drop from the datasets (e.g., spatial or datetime columns not needed for modeling).\n",
    "cols_to_drop = ['Longitude', 'Latitude', \"datetime\", \"geometry\", \"centroid\"]\n",
    "\n",
    "# Drop the defined columns from the training dataset.\n",
    "model_train = train_feat.drop(columns=cols_to_drop, errors=\"ignore\")\n",
    "# Optionally, you can drop rows with missing values (commented out).\n",
    "# model_train = model_train.dropna()\n",
    "\n",
    "# Drop the defined columns from the submission dataset.\n",
    "model_sub = sub_feat.drop(columns=cols_to_drop, errors=\"ignore\")\n",
    "\n",
    "# Align the submission DataFrame to have the same columns as the training DataFrame.\n",
    "model_sub = model_sub[model_train.columns]\n",
    "\n",
    "# Separate the features (X) and the target variable (y) from the training data.\n",
    "# Here, \"UHI Index\" is the target variable.\n",
    "X_full = model_train.drop(columns=[\"UHI Index\"]).values\n",
    "y_full = model_train[\"UHI Index\"].values\n",
    "\n",
    "# Split the training data into a training set and a test set for GridSearchCV evaluation.\n",
    "X_train, X_test, y_train, y_test = train_test_split(X_full, y_full, test_size=0.3, random_state=123)\n",
    "\n",
    "# Scale the features using StandardScaler:\n",
    "# Fit the scaler on the training data and transform both training and test sets.\n",
    "scaler = StandardScaler()\n",
    "X_train_scaled = scaler.fit_transform(X_train)\n",
    "X_test_scaled = scaler.transform(X_test)\n",
    "\n"
   ]
  },
  {
   "cell_type": "markdown",
   "metadata": {
    "id": "Gk0XM9lAdIIk"
   },
   "source": [
    "## Model optimization\n"
   ]
  },
  {
   "cell_type": "code",
   "execution_count": 6,
   "metadata": {
    "executionInfo": {
     "elapsed": 8,
     "status": "ok",
     "timestamp": 1745365057150,
     "user": {
      "displayName": "Mohamed Hridou",
      "userId": "13943295471743891029"
     },
     "user_tz": -120
    },
    "id": "I_WaRsWndIIk"
   },
   "outputs": [],
   "source": [
    "def objective(trial):\n",
    "    params = {\n",
    "        \"n_estimators\": trial.suggest_int(\"n_estimators\", 100, 1000, step=25),\n",
    "        \"max_depth\": trial.suggest_int(\"max_depth\", 3, 15),\n",
    "        \"learning_rate\": trial.suggest_float(\"learning_rate\", 0.01, 0.3),\n",
    "        \"subsample\": trial.suggest_float(\"subsample\", 0.8, 1.0),\n",
    "        \"colsample_bytree\": trial.suggest_float(\"colsample_bytree\", 0.8, 1.0),\n",
    "        \"gamma\": trial.suggest_float(\"gamma\", 0, 0.5),\n",
    "        \"reg_lambda\": trial.suggest_float(\"reg_lambda\", 1e-3, 100, log=True),\n",
    "    }\n",
    "\n",
    "    model = xgb.XGBRegressor(objective='reg:squarederror', random_state=42, **params)\n",
    "    score = cross_val_score(model, X_train, y_train, scoring=\"r2\", cv=5, n_jobs=-1).mean()\n",
    "    return score\n",
    "\n",
    "# Run Bayesian Optimization\n",
    "optimize = False\n",
    "if optimize:\n",
    "    study = optuna.create_study(direction=\"maximize\")  # maximize negative MSE (minimize MSE)\n",
    "    study.optimize(objective, n_trials=1000)\n",
    "\n",
    "    # Save the best parameters\n",
    "    xgb_optuna = xgb.XGBRegressor(objective='reg:squarederror', random_state=42, **study.best_params)\n",
    "\n",
    "    def save_params(model):\n",
    "    # Save to a JSON file\n",
    "        print(\"Saving the best model parameters...\")\n",
    "        with open(os.path.join(\"Output\", \"best_model_params.json\"), \"w\") as f:\n",
    "            json.dump(model.get_params(), f, indent=4)\n",
    "        print(\"Best model saved\")\n",
    "\n",
    "    save_params(xgb_optuna)"
   ]
  },
  {
   "cell_type": "markdown",
   "metadata": {
    "id": "SjHXm11FdIIk"
   },
   "source": [
    "## Xgboost modeling\n"
   ]
  },
  {
   "cell_type": "markdown",
   "metadata": {
    "id": "UOXsQojldIIk"
   },
   "source": [
    "**Feature Selection & Dropping Rationale**\n",
    "\n",
    "In our modeling process, we conducted an in-depth analysis to refine the set of features used for predicting the Urban Heat Island (UHI) Index. This selection was driven by two main factors:\n",
    "\n",
    "1. **XGBoost Feature Importance Analysis:**  \n",
    "   We ran an initial XGBoost model and examined the feature importance results. Features that showed little or no contribution to the model’s predictive performance were flagged as candidates for removal. This analysis helped us identify redundant or non-informative features.\n",
    "\n",
    "2. **Domain Expertise and Experimental Insights:**  \n",
    "   Based on our own observations, additional experiments, and valuable insights from domain experts we consulted, we determined that several features (especially those related to raw spatial coordinates and certain complex derivative metrics) did not add meaningful predictive power or could potentially introduce noise and overfitting into the model.\n",
    "\n",
    "As a result, we dropped:\n",
    "\n",
    "- **Low-Importance and Redundant Features:**  \n",
    "  The extensive list of features in `features_to_drop` (derived from both the feature importance analysis and expert feedback) were excluded to simplify the model and focus on the most relevant predictors.\n",
    "\n",
    "This careful feature selection aims to improve model performance, enhance interpretability, and reduce the risk of overfitting.\n"
   ]
  },
  {
   "cell_type": "code",
   "execution_count": 7,
   "metadata": {
    "executionInfo": {
     "elapsed": 18,
     "status": "ok",
     "timestamp": 1745365057174,
     "user": {
      "displayName": "Mohamed Hridou",
      "userId": "13943295471743891029"
     },
     "user_tz": -120
    },
    "id": "zgpieGqwdIIk"
   },
   "outputs": [],
   "source": [
    "cols_to_drop = ['Longitude', 'Latitude', \"datetime\", \"geometry\", \"centroid\"]\n",
    "features_to_drop = ['B11_median_1', 'fal_max', 'LST_ls_max_1', 'nearest_building_compactness', 'slhf_3_4_std', 'sp_3_4_mean', 'stl4_min', 'B11_median_2', 'NDVI_distance_to_high_median_3', 'w_solar_3_4_min', 'NDVI_buffer_std_median_2', 'v10_3_4_mean', 'sp_max', 'LST_Variability', 'NDVI_median_3', 'density_min', 'sshf_min', 'w_wind_anomaly', 'ssrd_anomaly', 'w_density_mean', 'stl3_min', 'NDRE_median_3', 'v10_std', 'stl3_std', 'w_solar_anomaly', 'NDMI_min_4', 'u10_3_4_min', 'LST_ls_min', 'w_relative_3_4_mean', 'w_ke_3_4_std', 'ssrd_3_4_min', 'w_density_3_4_mean', 'w_air_3_4_std', 'd2m_anomaly', 'w_density_3_4_min', 'sshf_anomaly', 'SAVI_min_4', 'NDWI_distance_to_high_median', 'strd_3_4_mean', 'sshf_gradient', 'wind_dir_3_4_min', 'LST_Anomaly', 'road_density_Weighted_Index', 'B01_median_3', 'NDWI_max_3', 'BSI_median_1', 'w_vpd_3_4_min', 'density_std', 'sshf_3_4_max', 'thermal_gradient_median_1', 'ro_anomaly', 'nearest_building_perimeter', 'w_relative_std', 'w_heat_max', 'w_air_3_4_min', 'str_3_4_min', 'w_ke_3_4_max', 'w_cooling_3_4_mean', 'Road_Clustering_Index', 'SVF', 'LST_ls_min_1', 'B05_median_3', 'B06_median_2', 'skt_min', 'NDMI_median_2', 'SAVI_median_4', 'Urban_Core_Compactness', 'w_wind_3_4_max', 'NDRE_median', 'wind_dir_3_4_std', 'inside_building', 'NDWI_buffer_std_median_2', 'SAVI_min_1', 'NDWI_max', 'w_wind_3_4_mean', 'ssr_3_4_mean', 'ro_3_4_std', 'NDVI_max_2', 'NDRE_max_3', 'w_air_3_4_max', 'LST_ls_max', 't2m_max', 'Green_Space_Thermal_Impact', 'B12_median', 'u10_min', 'v10_3_4_min', 'sshf_std', 'fal_slope', 'NDMI_max', 'NDVI_solar', 'LST_ls_median_2', 'NDMI_median_4', 'SAVI_median_2', 'w_ke_3_4_min', 'w_density_max', 'sshf_mean', 'NDVI_max_4', 'w_density_min', 'B07_median_1', 'slhf_3_4_max', 'w_dew_mean', 'd2m_3_4_max', 'density_avg', 'u10_anomaly', 'height_std', 'B12_median_2', 'B05_median', 'stl1_min', 'NDWI_max_4', 'w_avg_anomaly', 'B07_median_4', 'NDWI_median_4', 'stl3_3_4_std', 'buildings_count', 'NDVI_buffer_std_median_1', 'tp_second_deriv', 'u10_3_4_std', 'NDVI_buffer_std_median_3', 'stl4_3_4_mean', 'NDVI_max', 'FAR', 'NDWI_median_1', 'B8A_median_1', 'SAVI_max_4', 'w_wind_min', 'NDVI_distance_to_high_median', 'density_median', 'str_3_4_max', 'Thermal_Buffer_Effect', 'w_vpd_3_4_max', 'w_avg_3_4_std', 'w_dew_3_4_std', 'BSI_median_2', 'NDRE_max_2', 'skt_3_4_mean', 'NDWI_buffer_std_median_4', 'w_air_anomaly', 'B06_median_3', 'w_vpd_mean', 'w_air_mean', 'stl1_3_4_max', 'w_heat_min', 'effective_solar', 'wind_dir_mean', 'B06_median_4', 'albedo_corr_median_4', 'w_dew_3_4_max', 'NDVI_median_4', 'ro_3_4_mean', 'effective_solar_flux', 'tp_mean', 'w_cooling_3_4_std', 'Infrastructure_Coverage_Ratio', 'thermal_gradient_median_3', 'stl4_max', 'B8A_median_2', 'w_wind_std', 'w_avg_3_4_mean', 'stl1_3_4_mean', 'ssrd_min', 'perimeter_std', 'tp_3_4_mean', 'ssrd_mean', 'NDVI_max_3', 'thermal_gradient_median_2', 'area_std', 'thermal_gradient_median', 'LST_ls_max_2', 'w_solar_max', 'fal_second_deriv', 'strd_3_4_min', 'w_cooling_3_4_max', 'd2m_3_4_mean', 't2m_min', 'NDVI_buffer_std_median_4', 'Green_Heat_Absorption_Index', 'str_3_4_mean', 'height_avg', 'compactness_max', 'tp_gradient', 'NDVI_min_2', 'NDWI_median', 'B07_median_3', 'fal_mean', 'skt_3_4_min', 'Urbanization_Intensity', 't2m_mean', 'w_ke_anomaly', 't2m_3_4_max', 'NDWI_buffer_std_median_3', 'w_vpd_anomaly', 'NDVI_min', 'Urban_Heat_Retention_Index', 'BCR', 'B01_median_1', 'NDMI_max_4', 'w_vpd_std', 'LST_ls_median_1', 'SAVI_min_3', 'stl4_mean', 'NDMI_max_1', 'w_relative_3_4_std', 'NDWI_median_2', 'NDWI_min', 'NDRE_max_1', 'd2m_min', 'SAVI_max_1', 'strd_mean', 'stl2_max', 'w_air_min', 'v10_min', 'w_cooling_mean', 'BSI_median_3', 'fal_anomaly', 'w_wind_mean', 'ssr_mean', 'w_heat_3_4_min', 'stl1_std', 'nearest_building_area', 'stl3_mean', 'NDWI_buffer_std_median_1', 'compactness_std', 'd2m_std', 'LST_ls_max_4', 'fal_min', 'area_total', 'skt_3_4_max', 'tp_slope', 'w_vpd_max', 'w_ke_mean', 'LST_ls_median_3', 'NDMI_max_3', 'Vegetation_Buffer_Effect', 'dist_to_nearest_building', 'w_solar_std', 'NDMI_min_2', 'w_solar_min', 'NDVI_min_1', 'u10_3_4_mean', 'w_avg_min', 'u10_3_4_max', 'B12_median_4', 'B8A_median_3', 'NDWI_buffer_std_median', 'ro_std', 'nearest_building_feat_code', 'LST_ls_min_3', 'NDRE_min', 'w_avg_3_4_max', 'w_avg_std', 'ssr_3_4_min', 'w_relative_anomaly', 'w_relative_3_4_max', 't2m_std', 'B01_median_4', 'compactness_avg', 'slhf_std', 'w_air_std', 'w_vpd_3_4_mean', 'B11_median_3', 'B8A_median', 'sp_min', 'NDMI_min', 'B01_median', 'tp_3_4_min', 'ssrd_std', 'v10_max', 'NDMI_median', 'wind_dir_std', 'tp_std', 'stl3_3_4_min', 'w_dew_max', 'thermal_gradient_median_4', 'w_cooling_min', 'w_air_max', 'albedo_corr_median_1', 'B06_median_1', 'w_dew_min', 'stl1_anomaly', 'strd_anomaly', 'NDMI_median_1', 'LST_ref_diff_pow', 'compactness_median', 'Thermal_Stability_Index', 'perimeter_avg', 'B11_median_4', 'NDRE_median_2', 'ro_3_4_min', 'NDRE_median_1', 'Normalized_Distance_To_Green', 'w_heat_3_4_mean', 'LST_ls_median_4', 'w_cooling_3_4_min', 'w_heat_std', 'NDMI_min_1', 'w_avg_max', 'stl3_3_4_mean', 'NDVI_max_1', 'ssrd_3_4_mean', 'w_ke_min', 'LST_ref_diff', 'w_dew_anomaly', 'BSI_median', 'hum_temp', 'perimeter_median', 'NDVI_distance_to_high_median_2', 'albedo_corr_median_2', 'str_max', 'v10_3_4_max', 'fal_3_4_min', 'Vegetation_Density_Gradient', 'NDRE_max_4', 'strd_min', 'd2m_3_4_std', 'Building_Compactness', 'w_cooling_std', 'v10_3_4_std', 'w_heat_3_4_max', 'albedo_corr_median', 'area_avg', 'NDWI_min_1', 'ET0', 'w_cooling_max', 'strd_3_4_max', 'Green_Coverage_Ratio', 'SAVI_min', 'w_solar_mean', 'w_ke_std', 'ssrd_3_4_max', 'w_solar_3_4_max', 'Water_Influence_Index', 'w_density_3_4_std', 'NDWI_max_1', 'w_wind_3_4_min', 'wind_dir_3_4_mean', 'stl4_std', 'w_avg_3_4_min', 'NDVI_distance_to_high_median_4', 'area_median', 'NDVI_distance_to_high_median_1', 'fal_3_4_mean', 'NDWI_min_4', 'w_density_anomaly', 'Building_Coverage_Ratio', 'SAVI_median', 'B05_median_2', 'BSI_median_4', 'wind_dir_min', 'ro_min', 'stl2_3_4_max', 'wind_dir_3_4_max', 'slhf_anomaly', 'w_solar_3_4_mean', 'w_relative_mean', 'NDRE_min_3', 'wind_speed_x', 'B12_median_1', 'ro_3_4_max', 'wind_dir_max', 'ssr_min', 'NDRE_median_4', 'NDMI_min_3', 'd2m_3_4_min', 'B05_median_1', 'w_dew_std', 'w_dew_3_4_min', 'skt_3_4_std', 'NDWI_max_2', 'B8A_median_4', 'stl2_mean', 'w_ke_max', 'w_heat_3_4_std', 'sp_mean', 'ssr_3_4_max', 'ssr_3_4_std', 'stl3_anomaly', 'SAVI_median_3', 'str_3_4_std', 'SAVI_max_2', 'stl2_std', 'stl2_3_4_std', 'NDRE_min_4', 'skt_max', 'w_vpd_min', 'NDRE_max', 'B05_median_4', 'stl2_3_4_min', 'tp_3_4_max', 'B07_median_2', 'fal_3_4_max', 'B01_median_2', 'NDMI_max_2', 'w_relative_3_4_min', 'w_relative_min', 'slhf_min', 'stl4_anomaly', 'w_density_3_4_max', 'sp_3_4_std', 'str_mean', 'SAVI_min_2', 'u10_mean', 'NDRE_min_1', 'stl3_3_4_max', 'slhf_3_4_min', 'stl3_max', 'B11_median', 'wind_dir_anomaly', 'w_relative_max', 'SAVI_max', 'NDWI_distance_to_high_median_2', 'LST_ls_min_2', 'height_median', 'w_avg_mean', 'NDVI_median', 'area_min', 'w_cooling_anomaly', 'w_dew_3_4_mean', 'str_std', 'stl4_3_4_max', 'stl1_3_4_min', 'NDVI_median_1', 'Building_Density_Gradient', 'sp_anomaly', 'ssrd_max', 'w_wind_3_4_std', 'strd_3_4_std', 'NDWI_distance_to_high_median_1', 'NDRE_min_2', 'SAVI_max_3', 'B06_median', 'w_vpd_3_4_std', 'ssrd_3_4_std', 'stl2_3_4_mean', 'w_heat_anomaly', 'v10_slope', 'NDVI_median_2', 'B07_median', 'w_wind_max', 'LST_ls_max_3', 'SAVI_median_1', 'skt_std', 'B12_median_3', 'w_ke_3_4_mean', 'NDWI_min_2', 'w_heat_mean', 'BD', 'u10_max', 't2m_3_4_std', 'sshf_3_4_min', 'NDVI_min_3', 't2m_3_4_min', 'LST_ls_median', 'wind_speed_y', 'stl1_mean', 'NDMI_median_3', 'NDVI_buffer_std_median', 'NDWI_median_3', 'ssr_std', 'w_air_3_4_mean', 'u10_std', 'road_density', 'NDVI_min_4', 'fal_gradient', 'stl1_3_4_std', 'NDWI_min_3', 'nearest_building_height', 'albedo_corr_median_3', 'stl4_3_4_min']\n",
    "features_to_drop += ['sp_slope', 'sp_gradient', 'sp_second_deriv', 'u10_slope', 'u10_gradient', 'u10_second_deriv', 't2m_slope', 't2m_gradient', 't2m_second_deriv', 'd2m_slope', 'd2m_gradient', 'd2m_second_deriv', 'ssrd_slope', 'ssrd_gradient', 'ssrd_second_deriv', 'strd_slope', 'strd_gradient', 'strd_second_deriv', 'ssr_slope', 'ssr_gradient', 'ssr_second_deriv', 'str_slope', 'str_gradient', 'str_second_deriv', 'ro_slope', 'ro_gradient', 'ro_second_deriv', 'stl1_slope', 'stl1_gradient', 'stl1_second_deriv', 'stl2_slope', 'stl2_gradient', 'stl2_second_deriv', 'stl3_slope', 'stl3_gradient', 'stl3_second_deriv', 'stl4_slope', 'stl4_gradient', 'stl4_second_deriv']\n",
    "\n",
    "for col in processed_train.columns:\n",
    "    if \"nearest_high_median\" in col:\n",
    "        features_to_drop.append(col)\n",
    "    if \"buffer_high_median\" in col:\n",
    "        features_to_drop.append(col)\n",
    "    if \"NDVI_ls_median\" in col:\n",
    "        features_to_drop.append(col)\n",
    "\n",
    "\n",
    "features_to_drop += [\"albedo_ndvi\", \"albedo_effect\", \"adjusted_solar\", \"thermal_diff\", \"latent_sensible_ratio\", \"radiation_balance_svf\", \"albedo_svf_interaction\"]"
   ]
  },
  {
   "cell_type": "code",
   "execution_count": 8,
   "metadata": {
    "executionInfo": {
     "elapsed": 28,
     "status": "ok",
     "timestamp": 1745365057203,
     "user": {
      "displayName": "Mohamed Hridou",
      "userId": "13943295471743891029"
     },
     "user_tz": -120
    },
    "id": "886tmEHhdIIl"
   },
   "outputs": [],
   "source": [
    "# Drop the defined columns from the training dataset.\n",
    "model_train = train_feat.drop(columns= cols_to_drop + features_to_drop, errors=\"ignore\")\n",
    "# Optionally, you can drop rows with missing values (commented out).\n",
    "# model_train = model_train.dropna()\n",
    "\n",
    "# Drop the defined columns from the submission dataset.\n",
    "model_sub = sub_feat.drop(columns=cols_to_drop + features_to_drop, errors=\"ignore\")\n",
    "\n",
    "# Align the submission DataFrame to have the same columns as the training DataFrame.\n",
    "model_sub = model_sub[model_train.columns]\n",
    "\n",
    "# Separate the features (X) and the target variable (y) from the training data.\n",
    "# Here, \"UHI Index\" is the target variable.\n",
    "X_full = model_train.drop(columns=[\"UHI Index\"]).values\n",
    "y_full = model_train[\"UHI Index\"].values\n",
    "\n",
    "# Split the training data into a training set and a test set for GridSearchCV evaluation.\n",
    "X_train, X_test, y_train, y_test = train_test_split(X_full, y_full, test_size=0.3, random_state=123)\n",
    "\n",
    "# Scale the features using StandardScaler:\n",
    "# Fit the scaler on the training data and transform both training and test sets.\n",
    "scaler = StandardScaler()\n",
    "X_train_scaled = scaler.fit_transform(X_train)\n",
    "X_test_scaled = scaler.transform(X_test)"
   ]
  },
  {
   "cell_type": "code",
   "execution_count": 17,
   "metadata": {
    "executionInfo": {
     "elapsed": 9,
     "status": "ok",
     "timestamp": 1745365163412,
     "user": {
      "displayName": "Mohamed Hridou",
      "userId": "13943295471743891029"
     },
     "user_tz": -120
    },
    "id": "E3mowR71dIIl"
   },
   "outputs": [],
   "source": [
    "is_train = False\n",
    "if is_train :\n",
    "  # import json file of the best parameters\n",
    "  saved_best_params = json.load(open(os.path.join(\"data\", \"best_model_params.json\"), \"r\"))\n",
    "\n",
    "  # --- Initialize and train the model with saved best parameters ---\n",
    "\n",
    "  # Assume saved_best_params is a dictionary with the best hyperparameters\n",
    "  model_optuna = xgb.XGBRegressor(**saved_best_params)\n",
    "  # commented code: if we decide to use directly the output of optuna optimization instead of loadig the best model parameters\n",
    "\n",
    "  model_optuna.fit(X_train_scaled, y_train)\n",
    "\n",
    "  # Evaluate on training and test splits\n",
    "  train_r2 = r2_score(y_train, model_optuna.predict(X_train_scaled))\n",
    "  test_r2  = r2_score(y_test, model_optuna.predict(X_test_scaled))\n",
    "  print(\"Training R² on split:\", train_r2)\n",
    "  print(\"Test R² on split:\", test_r2)\n"
   ]
  },
  {
   "cell_type": "markdown",
   "metadata": {
    "id": "Io3XVikMdIIl"
   },
   "source": [
    "# Model Inference\n"
   ]
  },
  {
   "cell_type": "markdown",
   "metadata": {
    "id": "fKxqVrS4dIIl"
   },
   "source": [
    "In this section, we finalize our modeling process by retraining the model using the full training dataset and generating predictions on the submission dataset. The steps include:\n",
    "\n",
    "1. **Scaling the Full Training Data:**  \n",
    "   We re-scale the entire training feature set using the same StandardScaler that was fitted during model optimization. This ensures that all features are normalized consistently.\n",
    "\n",
    "2. **Model Retraining:**  \n",
    "   The XGBoost model (with the best hyperparameters found during optimization) is re-trained on the scaled full training data. This leverages all available training samples for the final model.\n",
    "\n",
    "3. **Submission Predictions:**  \n",
    "   The submission dataset's features are scaled with the same scaler, and the retrained model is then used to generate predictions for the target variable (\"UHI Index\").\n",
    "\n",
    "4. **Preparing the Submission File:**  \n",
    "   Predictions are inserted into a submission template, and (if saving is enabled) the final submission file is saved as a CSV file.\n"
   ]
  },
  {
   "cell_type": "code",
   "execution_count": 18,
   "metadata": {
    "executionInfo": {
     "elapsed": 2,
     "status": "ok",
     "timestamp": 1745365165509,
     "user": {
      "displayName": "Mohamed Hridou",
      "userId": "13943295471743891029"
     },
     "user_tz": -120
    },
    "id": "9eQ3wX4UdIIl"
   },
   "outputs": [],
   "source": [
    "if is_train :\n",
    "  # --- Re-train the model on the full training dataset ---\n",
    "  X_full_scaled = scaler.fit_transform(X_full)  # Scale full training data\n",
    "  model_optuna.fit(X_full_scaled, y_full)\n",
    "\n",
    "  # --- Predict on the submission dataset ---\n",
    "  X_submission = scaler.transform(model_sub.drop(columns=[\"UHI Index\"]).values)\n",
    "  submission_predictions_xgb = model_optuna.predict(X_submission)"
   ]
  },
  {
   "cell_type": "code",
   "execution_count": 19,
   "metadata": {
    "executionInfo": {
     "elapsed": 128,
     "status": "ok",
     "timestamp": 1745365166689,
     "user": {
      "displayName": "Mohamed Hridou",
      "userId": "13943295471743891029"
     },
     "user_tz": -120
    },
    "id": "ZuEarqU7jwN-"
   },
   "outputs": [],
   "source": [
    "X_submission = scaler.transform(model_sub.drop(columns=[\"UHI Index\"]).values)\n",
    "\n",
    "\n",
    "model = xgb.XGBRegressor()\n",
    "model.load_model(os.path.join(\"data\",\"my_xgb_model.bin\"))\n",
    "submission_predictions_xgb = model.predict(X_submission)"
   ]
  },
  {
   "cell_type": "code",
   "execution_count": 20,
   "metadata": {
    "colab": {
     "base_uri": "https://localhost:8080/"
    },
    "executionInfo": {
     "elapsed": 23,
     "status": "ok",
     "timestamp": 1745365167767,
     "user": {
      "displayName": "Mohamed Hridou",
      "userId": "13943295471743891029"
     },
     "user_tz": -120
    },
    "id": "WKWTFi18dIIl",
    "outputId": "c5e8fd4d-c181-4f22-af3b-509cf378cb24"
   },
   "outputs": [
    {
     "name": "stdout",
     "output_type": "stream",
     "text": [
      "[np.float32(0.96378314), np.float32(0.9633674), np.float32(0.96434265), np.float32(0.9615813), np.float32(0.95944405), np.float32(0.95954514), np.float32(0.95895857), np.float32(0.95837504), np.float32(0.9607056), np.float32(0.9620402), np.float32(0.9737504), np.float32(0.97341794), np.float32(0.97080356), np.float32(0.96890837), np.float32(0.9696781), np.float32(0.974681), np.float32(0.96957034), np.float32(0.9705271), np.float32(0.9677654), np.float32(0.96975875), np.float32(0.9671814), np.float32(0.9745463), np.float32(0.97323275), np.float32(0.9731607), np.float32(0.9739379), np.float32(0.9747265), np.float32(0.9741899), np.float32(0.97435606), np.float32(0.9673695), np.float32(0.9719341), np.float32(0.9716274), np.float32(0.9707429), np.float32(0.9748661), np.float32(0.97342426), np.float32(0.97199017), np.float32(0.96815914), np.float32(0.9749553), np.float32(0.9691876), np.float32(0.970059), np.float32(0.97631603), np.float32(0.97024804), np.float32(0.9734251), np.float32(0.97135675), np.float32(0.9707429), np.float32(0.9741545), np.float32(0.9685108), np.float32(0.9724817), np.float32(0.9772779), np.float32(0.9731607), np.float32(0.9731328), np.float32(0.9711127), np.float32(0.9721381), np.float32(0.97393084), np.float32(0.9666963), np.float32(0.96753085), np.float32(0.9707317), np.float32(0.9725889), np.float32(0.9681062), np.float32(0.96760225), np.float32(0.9712345), np.float32(0.9738884), np.float32(0.9667442), np.float32(0.98166555), np.float32(0.9855203), np.float32(0.97966605), np.float32(0.9830729), np.float32(0.9768555), np.float32(0.9794668), np.float32(0.97796863), np.float32(0.97934574), np.float32(0.985442), np.float32(0.98039037), np.float32(0.98108923), np.float32(0.98416084), np.float32(0.97785103), np.float32(0.9754351), np.float32(0.9804519), np.float32(0.981121), np.float32(0.98152256), np.float32(0.9814469), np.float32(0.9798453), np.float32(0.975875), np.float32(0.97586745), np.float32(0.9755593), np.float32(0.9730577), np.float32(0.9773239), np.float32(0.9779224), np.float32(0.979177), np.float32(0.9805454), np.float32(0.98036784), np.float32(0.977185), np.float32(0.9768255), np.float32(0.9769372), np.float32(0.9762999), np.float32(0.9771405), np.float32(0.97983253), np.float32(0.9821261), np.float32(0.981704), np.float32(0.9746457), np.float32(0.97678787), np.float32(0.97497857), np.float32(0.9796529), np.float32(0.9809278), np.float32(0.9849995), np.float32(0.9761918), np.float32(0.9755453), np.float32(0.9804283), np.float32(0.9771881), np.float32(0.9798629), np.float32(0.97524244), np.float32(0.9764691), np.float32(0.9731045), np.float32(0.97441417), np.float32(0.9842711), np.float32(0.97867155), np.float32(0.97931606), np.float32(0.97537565), np.float32(0.97902465), np.float32(0.9782928), np.float32(0.9771964), np.float32(0.9799118), np.float32(0.9759734), np.float32(0.9820145), np.float32(0.9831094), np.float32(0.97677153), np.float32(0.9854741), np.float32(0.98407257), np.float32(0.9811988), np.float32(0.9813564), np.float32(0.97588307), np.float32(0.9794629), np.float32(0.9810126), np.float32(0.9763873), np.float32(0.9757597), np.float32(0.97720283), np.float32(0.9827701), np.float32(0.97911465), np.float32(0.97695816), np.float32(0.98425263), np.float32(0.9786313), np.float32(0.98142934), np.float32(0.9755468), np.float32(0.9823595), np.float32(0.9757719), np.float32(0.98183155), np.float32(0.9800251), np.float32(0.9822032), np.float32(0.9809349), np.float32(0.984509), np.float32(0.98339826), np.float32(0.9811699), np.float32(0.97566146), np.float32(0.9759754), np.float32(0.98079056), np.float32(0.9804338), np.float32(0.97832274), np.float32(0.9846528), np.float32(0.98204815), np.float32(0.97619283), np.float32(0.9827869), np.float32(0.9752108), np.float32(0.98165244), np.float32(0.98001826), np.float32(0.9746289), np.float32(0.98251706), np.float32(0.97876537), np.float32(0.97831273), np.float32(0.9801075), np.float32(0.9753504), np.float32(0.98118883), np.float32(0.9787359), np.float32(0.9810303), np.float32(0.9934766), np.float32(0.9904915), np.float32(0.9837325), np.float32(0.98621345), np.float32(0.9861449), np.float32(0.9850047), np.float32(0.9846165), np.float32(0.9889902), np.float32(0.9863618), np.float32(0.9899407), np.float32(0.99233115), np.float32(0.9885371), np.float32(0.9914695), np.float32(0.9888622), np.float32(0.9889032), np.float32(0.9895128), np.float32(0.9880582), np.float32(0.9905056), np.float32(0.9924632), np.float32(0.9895977), np.float32(0.988545), np.float32(0.98730934), np.float32(0.99315864), np.float32(0.9929678), np.float32(0.98990005), np.float32(0.9806068), np.float32(0.9908923), np.float32(0.9895367), np.float32(0.98536974), np.float32(0.98529047), np.float32(0.98385787), np.float32(0.9910715), np.float32(0.9905586), np.float32(0.99433345), np.float32(0.98770463), np.float32(0.99382323), np.float32(0.98955464), np.float32(0.9843481), np.float32(0.9905594), np.float32(0.9872246), np.float32(0.9907274), np.float32(0.9908333), np.float32(0.9857613), np.float32(0.9863618), np.float32(0.9859459), np.float32(0.9944439), np.float32(0.985781), np.float32(0.98292327), np.float32(0.98779255), np.float32(0.99147624), np.float32(0.9894596), np.float32(0.9833385), np.float32(0.99124354), np.float32(0.9899728), np.float32(0.99089485), np.float32(0.9912834), np.float32(0.98920935), np.float32(0.9848323), np.float32(0.9892529), np.float32(0.9922894), np.float32(0.98793995), np.float32(0.98737496), np.float32(0.98915756), np.float32(0.992132), np.float32(0.9935848), np.float32(0.98519325), np.float32(0.99570036), np.float32(0.9917573), np.float32(0.98960894), np.float32(0.9865534), np.float32(0.98699456), np.float32(0.9855445), np.float32(0.9877833), np.float32(0.99271643), np.float32(0.9821659), np.float32(0.9887581), np.float32(0.98516023), np.float32(0.9875696), np.float32(0.9885493), np.float32(0.99289465), np.float32(0.99205554), np.float32(0.99549574), np.float32(0.9838927), np.float32(0.9869041), np.float32(0.989783), np.float32(0.98459995), np.float32(0.9901782), np.float32(0.98657066), np.float32(0.9911961), np.float32(0.9845451), np.float32(0.99055344), np.float32(0.9896804), np.float32(0.98909223), np.float32(0.9856979), np.float32(0.98516935), np.float32(0.9869865), np.float32(0.98915476), np.float32(0.99215883), np.float32(0.98732615), np.float32(0.98979276), np.float32(0.9881619), np.float32(0.9887585), np.float32(0.99251264), np.float32(0.991999), np.float32(0.989439), np.float32(0.9858427), np.float32(0.9844312), np.float32(0.9887208), np.float32(0.9912753), np.float32(0.98615223), np.float32(0.99460894), np.float32(0.98505634), np.float32(0.9855849), np.float32(0.9888178), np.float32(0.9879337), np.float32(0.986805), np.float32(0.98928773), np.float32(0.9907852), np.float32(0.9849273), np.float32(0.9893472), np.float32(0.9916408), np.float32(0.9897117), np.float32(0.9881482), np.float32(0.9877861), np.float32(0.9846003), np.float32(0.9828554), np.float32(0.9865158), np.float32(0.99117655), np.float32(0.99215114), np.float32(0.99133337), np.float32(0.986021), np.float32(0.9851919), np.float32(0.98842686), np.float32(0.98893255), np.float32(0.98367506), np.float32(0.98701805), np.float32(0.9838585), np.float32(0.99259865), np.float32(0.98227906), np.float32(0.9891661), np.float32(0.9880588), np.float32(0.98560685), np.float32(0.9933028), np.float32(0.9869547), np.float32(0.9844529), np.float32(0.9910631), np.float32(0.98535603), np.float32(0.98413986), np.float32(0.9956217), np.float32(0.9833051), np.float32(0.9889149), np.float32(0.985308), np.float32(0.99111426), np.float32(0.9879755), np.float32(0.990657), np.float32(0.9848273), np.float32(0.9987763), np.float32(0.99297726), np.float32(0.9991218), np.float32(0.9923135), np.float32(0.9937881), np.float32(0.9970324), np.float32(0.99983865), np.float32(0.9948019), np.float32(0.996774), np.float32(0.99263734), np.float32(0.99397236), np.float32(0.9922408), np.float32(1.0041033), np.float32(0.99747986), np.float32(0.99733317), np.float32(0.99200994), np.float32(0.9931659), np.float32(0.99721557), np.float32(0.994522), np.float32(0.99386746), np.float32(0.9951032), np.float32(0.99809134), np.float32(1.0002482), np.float32(0.99382293), np.float32(0.9984662), np.float32(0.9957765), np.float32(0.9973335), np.float32(0.9923552), np.float32(1.0021759), np.float32(0.99673915), np.float32(0.9994192), np.float32(1.0021735), np.float32(0.9989685), np.float32(0.9958375), np.float32(0.99501854), np.float32(1.0013403), np.float32(0.995742), np.float32(0.999809), np.float32(0.99995667), np.float32(1.0024282), np.float32(0.9997372), np.float32(0.9998833), np.float32(0.9897425), np.float32(0.9929554), np.float32(0.9986339), np.float32(0.99686253), np.float32(0.9926995), np.float32(0.9950202), np.float32(0.9962288), np.float32(0.99721926), np.float32(0.9912947), np.float32(0.99775887), np.float32(1.0003818), np.float32(0.9988547), np.float32(0.99533427), np.float32(0.9975799), np.float32(0.9934661), np.float32(1.0008297), np.float32(0.9961124), np.float32(0.9937308), np.float32(0.99835736), np.float32(0.9968115), np.float32(0.9959436), np.float32(0.9945215), np.float32(0.99891555), np.float32(0.9934619), np.float32(1.0036664), np.float32(1.0002359), np.float32(0.9923138), np.float32(0.99904954), np.float32(0.99618196), np.float32(0.9974698), np.float32(0.99761504), np.float32(0.99308956), np.float32(0.9929294), np.float32(0.99518925), np.float32(1.0021759), np.float32(0.9930883), np.float32(1.0013123), np.float32(1.0046294), np.float32(0.99662083), np.float32(0.99358606), np.float32(0.99162924), np.float32(0.99235696), np.float32(0.99531204), np.float32(0.99325866), np.float32(0.99293405), np.float32(0.9965218), np.float32(0.9945125), np.float32(0.9958643), np.float32(0.9946234), np.float32(0.9909562), np.float32(0.99940354), np.float32(0.99523544), np.float32(0.997755), np.float32(0.993462), np.float32(0.99409485), np.float32(1.0010566), np.float32(0.99247676), np.float32(0.99613917), np.float32(0.99878824), np.float32(1.0011101), np.float32(0.9956992), np.float32(0.99117476), np.float32(0.999262), np.float32(0.995542), np.float32(0.99916965), np.float32(0.9961385), np.float32(0.99307513), np.float32(0.99621236), np.float32(0.99943143), np.float32(1.003997), np.float32(0.9953407), np.float32(0.9965174), np.float32(1.0030239), np.float32(1.0046077), np.float32(1.0011469), np.float32(0.9964434), np.float32(0.99330664), np.float32(0.99894184), np.float32(0.997856), np.float32(1.0010198), np.float32(0.9980048), np.float32(0.9934272), np.float32(0.998774), np.float32(0.9930883), np.float32(0.99547845), np.float32(0.9957411), np.float32(0.99953675), np.float32(0.99729544), np.float32(0.9913321), np.float32(0.9991279), np.float32(0.99538547), np.float32(0.9934811), np.float32(1.0000252), np.float32(0.99334526), np.float32(0.9961882), np.float32(1.0011994), np.float32(0.9941814), np.float32(1.0001079), np.float32(0.9985782), np.float32(0.99360865), np.float32(0.99550354), np.float32(0.99418455), np.float32(0.99494714), np.float32(0.99740803), np.float32(0.99340856), np.float32(1.0004001), np.float32(0.99304783), np.float32(0.99538064), np.float32(0.9962342), np.float32(0.99377817), np.float32(0.9917976), np.float32(0.99429405), np.float32(0.9942039), np.float32(0.9970499), np.float32(0.9942106), np.float32(0.99895656), np.float32(0.9938808), np.float32(1.0010794), np.float32(0.9928347), np.float32(0.9901994), np.float32(0.9997326), np.float32(0.9990217), np.float32(1.0005198), np.float32(1.000016), np.float32(1.0030023), np.float32(0.9945441), np.float32(0.99095464), np.float32(0.99385685), np.float32(0.9913744), np.float32(0.99600625), np.float32(0.9958622), np.float32(0.99386215), np.float32(0.99294424), np.float32(0.99617326), np.float32(0.9973265), np.float32(0.9997074), np.float32(0.993072), np.float32(0.9950768), np.float32(0.99281424), np.float32(0.9932088), np.float32(0.99740654), np.float32(0.996786), np.float32(1.0031103), np.float32(0.99193174), np.float32(0.9955138), np.float32(1.0006356), np.float32(0.9981383), np.float32(0.9958888), np.float32(0.9967971), np.float32(0.99815136), np.float32(0.9945171), np.float32(0.99398565), np.float32(1.0019515), np.float32(0.98699826), np.float32(1.0010631), np.float32(0.99244624), np.float32(1.0014316), np.float32(0.9958139), np.float32(0.99770117), np.float32(0.9997905), np.float32(0.99253416), np.float32(0.9951202), np.float32(0.99129695), np.float32(0.99766684), np.float32(1.0018506), np.float32(0.9979688), np.float32(0.9923015), np.float32(0.99337727), np.float32(0.99891025), np.float32(0.9961765), np.float32(1.0022751), np.float32(0.99424577), np.float32(0.9959683), np.float32(1.0023652), np.float32(1.0028739), np.float32(1.0041378), np.float32(1.007358), np.float32(1.0022038), np.float32(1.0063055), np.float32(1.0017859), np.float32(1.0001103), np.float32(1.0071126), np.float32(1.0045552), np.float32(1.0023105), np.float32(1.0070655), np.float32(1.009034), np.float32(1.0046483), np.float32(1.0042759), np.float32(1.0015208), np.float32(1.0046923), np.float32(0.99786115), np.float32(1.0048084), np.float32(1.0072278), np.float32(1.0062071), np.float32(1.0077051), np.float32(1.0048497), np.float32(1.0064485), np.float32(1.0036658), np.float32(1.0029585), np.float32(1.0057551), np.float32(1.0094169), np.float32(1.0115105), np.float32(1.0048757), np.float32(1.0012696), np.float32(1.011477), np.float32(1.0088893), np.float32(1.0055435), np.float32(1.006788), np.float32(1.0036124), np.float32(1.0072736), np.float32(1.0076591), np.float32(1.0030375), np.float32(1.0101774), np.float32(1.0027813), np.float32(1.0082425), np.float32(1.0055212), np.float32(1.0108035), np.float32(1.005465), np.float32(1.0051509), np.float32(1.0068724), np.float32(0.9987267), np.float32(1.0078515), np.float32(1.0096675), np.float32(1.0068351), np.float32(1.0034533), np.float32(1.0043621), np.float32(1.0046619), np.float32(0.99709743), np.float32(1.0072112), np.float32(1.005519), np.float32(1.0069718), np.float32(1.0055636), np.float32(0.9987026), np.float32(1.011799), np.float32(1.000673), np.float32(1.0035975), np.float32(1.0075487), np.float32(1.0037273), np.float32(1.0094899), np.float32(1.0121399), np.float32(1.0114726), np.float32(1.0070689), np.float32(1.0060786), np.float32(1.0050939), np.float32(1.0109736), np.float32(1.007004), np.float32(1.0104167), np.float32(1.0019398), np.float32(1.0079414), np.float32(1.0024321), np.float32(1.0031412), np.float32(1.0060657), np.float32(1.0029489), np.float32(1.0006089), np.float32(1.0122551), np.float32(1.0096898), np.float32(1.0049211), np.float32(1.0014361), np.float32(1.0072774), np.float32(1.0041428), np.float32(1.00639), np.float32(1.0081353), np.float32(1.0073345), np.float32(1.0057135), np.float32(1.0052276), np.float32(1.0105786), np.float32(1.006466), np.float32(1.0011417), np.float32(1.0103071), np.float32(1.0072184), np.float32(1.0094616), np.float32(1.0085813), np.float32(1.0044274), np.float32(1.0011743), np.float32(1.0021043), np.float32(1.0054119), np.float32(1.0118251), np.float32(1.0034653), np.float32(1.0100621), np.float32(1.0061791), np.float32(1.0039282), np.float32(1.0040705), np.float32(1.0059433), np.float32(1.005601), np.float32(0.9991311), np.float32(0.9995258), np.float32(1.0087097), np.float32(1.0030386), np.float32(1.0105735), np.float32(1.0071493), np.float32(1.0066543), np.float32(1.0037581), np.float32(1.0080229), np.float32(1.0044179), np.float32(1.0031443), np.float32(1.0024861), np.float32(1.0055696), np.float32(1.002706), np.float32(1.0077847), np.float32(1.0061197), np.float32(1.0024911), np.float32(1.0078764), np.float32(1.0078193), np.float32(1.0108001), np.float32(1.0039802), np.float32(1.0051843), np.float32(1.0098525), np.float32(1.0105824), np.float32(1.0073324), np.float32(1.0054747), np.float32(1.0065849), np.float32(1.0042804), np.float32(1.0060946), np.float32(1.0046635), np.float32(1.0062646), np.float32(1.000362), np.float32(1.0062473), np.float32(1.0040054), np.float32(1.0049913), np.float32(1.006727), np.float32(1.0028616), np.float32(1.0036634), np.float32(1.0045862), np.float32(1.0156049), np.float32(1.0046095), np.float32(1.0046608), np.float32(1.0002787), np.float32(1.0055295), np.float32(1.0029614), np.float32(1.0078064), np.float32(1.0082535), np.float32(1.0060288), np.float32(1.0084964), np.float32(1.0018848), np.float32(1.0071619), np.float32(1.0098805), np.float32(1.0047376), np.float32(1.006398), np.float32(1.0028398), np.float32(1.0091046), np.float32(1.0017493), np.float32(1.0058151), np.float32(1.0008444), np.float32(1.0088965), np.float32(1.0123316), np.float32(1.0064036), np.float32(1.0092491), np.float32(1.0062604), np.float32(1.0088165), np.float32(1.006473), np.float32(1.0094788), np.float32(1.006681), np.float32(1.0089058), np.float32(0.99814945), np.float32(1.0024787), np.float32(1.0080113), np.float32(1.0074507), np.float32(1.0053014), np.float32(1.00689), np.float32(1.0068744), np.float32(1.0014117), np.float32(1.0077986), np.float32(1.0065129), np.float32(1.0024314), np.float32(1.0027494), np.float32(1.0001478), np.float32(1.00912), np.float32(1.0076728), np.float32(1.0032984), np.float32(1.0068564), np.float32(1.0028518), np.float32(1.0073932), np.float32(1.0063136), np.float32(1.0038583), np.float32(1.0006516), np.float32(1.0042937), np.float32(1.012009), np.float32(1.0032966), np.float32(1.0005703), np.float32(1.0073985), np.float32(1.0033598), np.float32(1.0055908), np.float32(1.0105245), np.float32(1.0060154), np.float32(1.0028827), np.float32(1.0093466), np.float32(1.0097834), np.float32(1.0069801), np.float32(1.0089608), np.float32(1.0134039), np.float32(1.0176574), np.float32(1.013004), np.float32(1.0136319), np.float32(1.0154938), np.float32(1.0097612), np.float32(1.0169417), np.float32(1.0170379), np.float32(1.014634), np.float32(1.0131437), np.float32(1.0120969), np.float32(1.0179415), np.float32(1.0125065), np.float32(1.0151008), np.float32(1.0108329), np.float32(1.0159216), np.float32(1.0111411), np.float32(1.0099931), np.float32(1.015175), np.float32(1.0031049), np.float32(1.0141604), np.float32(1.0197992), np.float32(1.0121962), np.float32(1.0139524), np.float32(1.0154421), np.float32(1.0178882), np.float32(1.0135491), np.float32(1.0157579), np.float32(1.0123509), np.float32(1.0153744), np.float32(1.01816), np.float32(1.0105623), np.float32(1.0185487), np.float32(1.0140498), np.float32(1.0123929), np.float32(1.0147467), np.float32(1.0156773), np.float32(1.016132), np.float32(1.0136688), np.float32(1.0106298), np.float32(1.0141196), np.float32(1.0120046), np.float32(1.0156345), np.float32(1.015532), np.float32(1.0130732), np.float32(1.0105382), np.float32(1.0118945), np.float32(1.0113144), np.float32(1.0158143), np.float32(1.0106012), np.float32(1.0120593), np.float32(1.009633), np.float32(1.0102587), np.float32(1.0154278), np.float32(1.0163661), np.float32(1.010364), np.float32(1.0178746), np.float32(1.017751), np.float32(1.0118015), np.float32(1.0157303), np.float32(1.0130041), np.float32(1.0102882), np.float32(1.0143522), np.float32(1.021522), np.float32(1.0177453), np.float32(1.0140053), np.float32(1.0154921), np.float32(1.0170859), np.float32(1.0130601), np.float32(1.0165871), np.float32(1.0142525), np.float32(1.0163343), np.float32(1.0137684), np.float32(1.0104952), np.float32(1.0139383), np.float32(1.0143702), np.float32(1.0178882), np.float32(1.0138999), np.float32(1.0104237), np.float32(1.0103946), np.float32(1.0113825), np.float32(1.0183909), np.float32(1.0127523), np.float32(1.0169374), np.float32(1.0175234), np.float32(1.0128412), np.float32(1.0143496), np.float32(1.0135658), np.float32(1.0139713), np.float32(1.0200043), np.float32(1.0184505), np.float32(1.0092049), np.float32(1.0177065), np.float32(1.0135684), np.float32(1.0188401), np.float32(1.0143893), np.float32(1.0129132), np.float32(1.0179737), np.float32(1.0104504), np.float32(1.0103254), np.float32(1.0155559), np.float32(1.0115594), np.float32(1.0074617), np.float32(1.0085956), np.float32(1.0102917), np.float32(1.0159376), np.float32(1.0154388), np.float32(1.0169338), np.float32(1.0092827), np.float32(1.0125998), np.float32(1.0147891), np.float32(1.0210301), np.float32(1.0147376), np.float32(1.013169), np.float32(1.0144795), np.float32(1.0163089), np.float32(1.0095128), np.float32(1.013203), np.float32(1.0149587), np.float32(1.0170146), np.float32(1.0166751), np.float32(1.0164177), np.float32(1.0191312), np.float32(1.015436), np.float32(1.0119338), np.float32(1.0148305), np.float32(1.0165126), np.float32(1.0105572), np.float32(1.0096347), np.float32(1.0178676), np.float32(1.0141048), np.float32(1.0205306), np.float32(1.0173136), np.float32(1.0077128), np.float32(1.0169313), np.float32(1.0114555), np.float32(1.0074964), np.float32(1.009876), np.float32(1.0132295), np.float32(1.0178535), np.float32(1.0154223), np.float32(1.0130544), np.float32(1.0089214), np.float32(1.0138865), np.float32(1.0145764), np.float32(1.015411), np.float32(1.0143542), np.float32(1.0125326), np.float32(1.0134197), np.float32(1.0156062), np.float32(1.017621), np.float32(1.0140086), np.float32(1.0096982), np.float32(1.0118749), np.float32(1.0214151), np.float32(1.0092955), np.float32(1.0141885), np.float32(1.016923), np.float32(1.0191777), np.float32(1.0212519), np.float32(1.0196294), np.float32(1.0222435), np.float32(1.0229248), np.float32(1.0237417), np.float32(1.0251701), np.float32(1.0188025), np.float32(1.0241036), np.float32(1.0225118), np.float32(1.0198021), np.float32(1.0250233), np.float32(1.0266318), np.float32(1.0164044), np.float32(1.0209807), np.float32(1.0198579), np.float32(1.0243882), np.float32(1.0216125), np.float32(1.0268741), np.float32(1.0166506), np.float32(1.0249217), np.float32(1.018999), np.float32(1.0254942), np.float32(1.0159165), np.float32(1.0259932), np.float32(1.029016), np.float32(1.0187861), np.float32(1.0222137), np.float32(1.0195076), np.float32(1.0262991), np.float32(1.0235165), np.float32(1.0247984), np.float32(1.023532), np.float32(1.0229868), np.float32(1.0224904), np.float32(1.0196805), np.float32(1.0270876), np.float32(1.021209), np.float32(1.0208596), np.float32(1.0213753), np.float32(1.0267842), np.float32(1.023869), np.float32(1.019357), np.float32(1.02494), np.float32(1.0208172), np.float32(1.0204407), np.float32(1.0243655), np.float32(1.0162755), np.float32(1.0210469), np.float32(1.0179381), np.float32(1.0187086), np.float32(1.0256153), np.float32(1.0248153), np.float32(1.0288768), np.float32(1.0220311), np.float32(1.0231807), np.float32(1.0200229), np.float32(1.0179735), np.float32(1.017931), np.float32(1.0237433), np.float32(1.0225518), np.float32(1.0237588), np.float32(1.0244766), np.float32(1.0224099), np.float32(1.0235676), np.float32(1.0297035), np.float32(1.0195777), np.float32(1.0225515), np.float32(1.0248766), np.float32(1.0245298), np.float32(1.0193291), np.float32(1.0194337), np.float32(1.021998), np.float32(1.0213041), np.float32(1.0183636), np.float32(1.0201185), np.float32(1.0273556), np.float32(1.0203351), np.float32(1.0249362), np.float32(1.0316528), np.float32(1.0254062), np.float32(1.0360775), np.float32(1.0333692), np.float32(1.0316418), np.float32(1.0324451), np.float32(1.0300167), np.float32(1.0320497), np.float32(1.036761), np.float32(1.0333318), np.float32(1.0310107), np.float32(1.0338829), np.float32(1.0282824), np.float32(1.0339667), np.float32(1.0308722), np.float32(1.0302227), np.float32(1.0331297), np.float32(1.0305388), np.float32(1.0310818), np.float32(1.0295705), np.float32(1.0328314), np.float32(1.0316296), np.float32(1.0308937), np.float32(1.0283704), np.float32(1.0290434), np.float32(1.0329989), np.float32(1.0293722), np.float32(1.0355182), np.float32(1.0306197), np.float32(1.0293722), np.float32(1.0365037), np.float32(1.027978), np.float32(1.0285755), np.float32(1.0437101), np.float32(1.0390881), np.float32(1.0412227), np.float32(1.0400103), np.float32(1.0285494), np.float32(1.0351739), np.float32(1.0424418), np.float32(1.042767), np.float32(1.0403045), np.float32(1.0389006), np.float32(1.0357555)]\n"
     ]
    }
   ],
   "source": [
    "print(list(submission_predictions_xgb))"
   ]
  },
  {
   "cell_type": "code",
   "execution_count": 21,
   "metadata": {
    "executionInfo": {
     "elapsed": 13,
     "status": "ok",
     "timestamp": 1745365169969,
     "user": {
      "displayName": "Mohamed Hridou",
      "userId": "13943295471743891029"
     },
     "user_tz": -120
    },
    "id": "Mb6pYBA0dIIl"
   },
   "outputs": [],
   "source": [
    "submission_df = pd.read_csv(os.path.join(\"data\",\"Submission_template.csv\"))\n",
    "submission_df[\"UHI Index\"] = submission_predictions_xgb\n",
    "\n",
    "save = True\n",
    "if save:\n",
    "\n",
    "    # Définir le répertoire à parcourir (remplacez par votre chemin)\n",
    "    submission_df.to_csv(os.path.join(\"data\", \"Submission.csv\"),index = False)"
   ]
  }
 ],
 "metadata": {
  "colab": {
   "provenance": []
  },
  "kernelspec": {
   "display_name": "ey_2025",
   "language": "python",
   "name": "python3"
  },
  "language_info": {
   "codemirror_mode": {
    "name": "ipython",
    "version": 3
   },
   "file_extension": ".py",
   "mimetype": "text/x-python",
   "name": "python",
   "nbconvert_exporter": "python",
   "pygments_lexer": "ipython3",
   "version": "3.11.11"
  }
 },
 "nbformat": 4,
 "nbformat_minor": 0
}
